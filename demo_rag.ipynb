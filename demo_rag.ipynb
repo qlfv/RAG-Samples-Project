{
 "cells": [
  {
   "cell_type": "markdown",
   "metadata": {},
   "source": [
    "# Démo minimaliste RAG (Retrieval Augmented Generation)\n",
    "\n",
    "Ce notebook montre comment combiner la recherche documentaire (retrieval) et la génération de texte (LLM) pour répondre à une question utilisateur de façon augmentée."
   ]
  },
  {
   "cell_type": "code",
   "metadata": {},
   "source": [
    "# Installation des dépendances\n",
    "!pip install sentence-transformers faiss-cpu transformers"
   ]
  },
  {
   "cell_type": "code",
   "metadata": {},
   "source": [
    "from sentence_transformers import SentenceTransformer\n",
    "import faiss\n",
    "from transformers import pipeline\n",
    "\n",
    "# 1. Mini-dataset\n",
    "documents = [\n",
    "    \"La RAG combine la recherche documentaire et la génération de texte.\",\n",
    "    \"LangChain et LlamaIndex sont des frameworks populaires pour la RAG.\",\n",
    "    \"L'indexation vectorielle permet de retrouver rapidement des passages pertinents.\",\n",
    "    \"La génération augmentée améliore la précision des réponses IA.\"\n",
    "]\n",
    "\n",
    "# 2. Embedding\n",
    "embedder = SentenceTransformer('all-MiniLM-L6-v2')\n",
    "doc_embeddings = embedder.encode(documents)\n",
    "\n",
    "# 3. Indexation (FAISS)\n",
    "index = faiss.IndexFlatL2(doc_embeddings.shape[1])\n",
    "index.add(doc_embeddings)\n",
    "\n",
    "# 4. Question utilisateur\n",
    "question = \"Quels frameworks utiliser pour faire de la RAG ?\"\n",
    "q_embedding = embedder.encode([question])\n",
    "\n",
    "# 5. Recherche du passage le plus pertinent\n",
    "D, I = index.search(q_embedding, k=1)\n",
    "retrieved = documents[I[0][0]]\n",
    "print(\"Passage retrouvé :\", retrieved)\n",
    "\n",
    "# 6. Génération de réponse augmentée (pipeline HuggingFace)\n",
    "gen_pipe = pipeline(\"text-generation\", model=\"gpt2\")\n",
    "prompt = f\"Question : {question}\\nContexte : {retrieved}\\nRéponse :\"\n",
    "result = gen_pipe(prompt, max_new_tokens=40)[0]['generated_text']\n",
    "print(result)"
   ]
  }
 ],
 "metadata": {
  "kernelspec": {
   "display_name": "Python 3",
   "language": "python",
   "name": "python3"
  },
  "language_info": {
   "name": "python",
   "version": "3.8"
  }
 },
 "nbformat": 4,
 "nbformat_minor": 2
}
